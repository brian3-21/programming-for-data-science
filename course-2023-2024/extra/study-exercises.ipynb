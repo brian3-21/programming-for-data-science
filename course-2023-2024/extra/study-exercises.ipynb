{
 "cells": [
  {
   "cell_type": "markdown",
   "metadata": {},
   "source": [
    "# Ejercicios de Estudio 🤔😬"
   ]
  },
  {
   "cell_type": "markdown",
   "metadata": {
    "jp-MarkdownHeadingCollapsed": true,
    "tags": []
   },
   "source": [
    "### Section: Going smoothly: 😏"
   ]
  },
  {
   "cell_type": "markdown",
   "metadata": {},
   "source": [
    "#### 1️⃣ Dado un número entero positivo n, encuentra todos los números primos menores o iguales a n y muéstralos en pantalla."
   ]
  },
  {
   "cell_type": "code",
   "execution_count": null,
   "metadata": {},
   "outputs": [],
   "source": [
    "def primos_menores(n):\n",
    "    pass #your code goes here"
   ]
  },
  {
   "cell_type": "markdown",
   "metadata": {},
   "source": [
    "#### 2️⃣ Crea una función llamada detectar_palindromos que reciba una cadena de texto como argumento y devuelve una lista que contiene todas las palabras que son palíndromos (palabras que se leen igual de izquierda a derecha que de derecha a izquierda). Si la cadena está vacía, la función debe devolver una lista vacía."
   ]
  },
  {
   "cell_type": "code",
   "execution_count": null,
   "metadata": {},
   "outputs": [],
   "source": [
    "def detectar_palindromos(text):\n",
    "    pass #your code goes here"
   ]
  },
  {
   "cell_type": "markdown",
   "metadata": {},
   "source": [
    "#### 3️⃣ Dado un número entero positivo n, crea una función llamada encontrar_parejas que reciba una lista de números y encuentre todas las parejas cuyo producto sea igual a n. La función debe devolver una lista de tuplas donde cada tupla representa una pareja de números cuyo producto es igual a n. Si no hay parejas que cumplan esta condición, la función debe devolver una lista vacía."
   ]
  },
  {
   "cell_type": "code",
   "execution_count": null,
   "metadata": {},
   "outputs": [],
   "source": [
    "def encontrar_parejas(n, numbers):\n",
    "    pass #your code goes here"
   ]
  },
  {
   "cell_type": "markdown",
   "metadata": {},
   "source": [
    "#### 4️⃣ Dado un número entero positivo n, crea un programa que pida al usuario ingresar una cadena de texto y reemplace todas las palabras que tienen más de n caracteres por la palabra \"MÁS CORTO\". La función debe devolver la cadena de texto con las palabras reemplazadas."
   ]
  },
  {
   "cell_type": "code",
   "execution_count": null,
   "metadata": {},
   "outputs": [],
   "source": [
    "def palabras_reemplazadas(text):\n",
    "    pass #your code goes here"
   ]
  },
  {
   "cell_type": "markdown",
   "metadata": {},
   "source": [
    "#### 5️⃣ Escribir un programa que imprima todas las permutaciones de un conjunto de elementos dados."
   ]
  },
  {
   "cell_type": "code",
   "execution_count": null,
   "metadata": {},
   "outputs": [],
   "source": [
    "def permutaciones(elem):\n",
    "    pass #your code goes here"
   ]
  },
  {
   "cell_type": "markdown",
   "metadata": {},
   "source": [
    "#### 6️⃣ Escribe un programa que, dada una cadena de texto, cuenta el número de veces que una palabra específica aparece en esa cadena."
   ]
  },
  {
   "cell_type": "code",
   "execution_count": null,
   "metadata": {},
   "outputs": [],
   "source": [
    "def cuenta_ocurrencias_palabra(word):\n",
    "    pass #your code goes here"
   ]
  },
  {
   "cell_type": "markdown",
   "metadata": {},
   "source": [
    "#### 7️⃣ Crea un programa dado un numero entero mayor que 0, calcula su factorial (es decir, el producto de todos los números enteros positivos desde 1 hasta ese número) y muestra el resultado en pantalla."
   ]
  },
  {
   "cell_type": "code",
   "execution_count": null,
   "metadata": {},
   "outputs": [],
   "source": [
    "def factorial(n):\n",
    "    pass #your code goes here"
   ]
  },
  {
   "cell_type": "markdown",
   "metadata": {
    "jp-MarkdownHeadingCollapsed": true,
    "tags": []
   },
   "source": [
    "### Section: What's this function for? 🤯"
   ]
  },
  {
   "cell_type": "code",
   "execution_count": null,
   "metadata": {},
   "outputs": [],
   "source": [
    "def func1(cadena):\n",
    "    resultado = \"\"\n",
    "    for i in range(len(cadena)-1, -1, -1):\n",
    "        resultado += cadena[i]\n",
    "    return resultado"
   ]
  },
  {
   "cell_type": "code",
   "execution_count": null,
   "metadata": {},
   "outputs": [],
   "source": [
    "def func2(lista):\n",
    "    resultado = []\n",
    "    for i in range(len(lista)):\n",
    "        if lista[i] % 2 == 0:\n",
    "            resultado.append(lista[i])\n",
    "    return resultado"
   ]
  },
  {
   "cell_type": "code",
   "execution_count": null,
   "metadata": {},
   "outputs": [],
   "source": [
    "def func3(cadena):\n",
    "    resultado = \"\"\n",
    "    for i in range(len(cadena)):\n",
    "        if i % 2 == 0:\n",
    "            resultado += cadena[i]\n",
    "    return resultado"
   ]
  },
  {
   "cell_type": "code",
   "execution_count": null,
   "metadata": {},
   "outputs": [],
   "source": [
    "def func4(lista):\n",
    "    resultado = []\n",
    "    for i in range(len(lista)):\n",
    "        if i % 2 == 0:\n",
    "            resultado.append(lista[i])\n",
    "        else:\n",
    "            resultado.append(lista[i-1] + lista[i])\n",
    "    return resultado"
   ]
  },
  {
   "cell_type": "markdown",
   "metadata": {
    "jp-MarkdownHeadingCollapsed": true,
    "tags": []
   },
   "source": [
    "### Section: Leveling Up 🤓😎"
   ]
  },
  {
   "cell_type": "markdown",
   "metadata": {},
   "source": [
    "#### 1️⃣ Cree un programa que dada una frase y una palabra:\n",
    "Devuelva la combinacion de letras de la palabra que aparece en la frase. Si la palabra o alguna modificacion de ella no se encuentra en la frase muestra en pantalla el mensaje \"La palabra no se encuentra en la frase\". "
   ]
  },
  {
   "cell_type": "code",
   "execution_count": null,
   "metadata": {},
   "outputs": [],
   "source": [
    "def palabra_combinatoria(frase,palabra):\n",
    "    pass #your code goes here\n",
    "\n",
    "# TESTER\n",
    "frase=\"Hola mundo\"\n",
    "palabra=\"Hola\"\n",
    "Output= \"Hola\"\n",
    "\n",
    "frase=\"Este sies un ejemplo\"\n",
    "palabra=\"seis\"\n",
    "Output= \"sies\"\n",
    "\n",
    "frase=\"El rápido zorro marrón salta sobre el perro perezoso\"\n",
    "palabra=\"perrito\"\n",
    "Output =\"La palabra no se encuentra en la frase\"\n",
    "\n",
    "frase=\"El elefante vuela sobre el océano en un barco de papel\"\n",
    "palabra=\"falente\"\n",
    "Output =\"lefante\"\n"
   ]
  },
  {
   "cell_type": "markdown",
   "metadata": {},
   "source": [
    "#### 2️⃣ Dado un número entero positivo n y una lista de números a:\n",
    "Crea una función llamada encontrar_parejas_primos que encuentre todas las parejas (x, y) de números de la lista que son primos a cuyo producto es un número menor o igual a n. La función debe devolver una lista de tuplas donde cada tupla representa una pareja (x, y) no repetidas (o sea si ya devolvio 1,2 no devuelva 2,1) cuyo producto es un número menor o igual a n. Si no hay parejas que cumplan esta condición, la función debe devolver una lista vacía. Si la lista a está vacía, la función también debe devolver una lista vacía.\n",
    "\n",
    "Para resolver este ejercicio, puedes utilizar el código del ejercicio anterior para detectar números primos. Además, deberás recorrer la lista de números a utilizando bucles y condicionales, y también deberás utilizar funciones para encontrar parejas de números cuyo producto sea un número primo."
   ]
  },
  {
   "cell_type": "code",
   "execution_count": 1,
   "metadata": {},
   "outputs": [],
   "source": [
    "def es_primo(num):\n",
    "    pass #your code goes here\n",
    "\n",
    "def encontrar_parejas_primos(n, a):\n",
    "    pass #your code goes here\n",
    "\n",
    "# TESTER\n",
    "n = 10\n",
    "a = [2, 3, 4, 5]\n",
    "Output= []\n",
    "\n",
    "n = 20\n",
    "a = [2, 3, 4, 5]\n",
    "Output= [(2, 3), (2,5), (3,5)]\n",
    "\n",
    "n = 100\n",
    "a = [2, 5, 9, 13, 24, 35, 44, 51, 63, 78, 83, 91]\n",
    "Output= [(2, 5), (2, 13), (5, 13),(2, 83), (5, 83), (13, 83)]\n"
   ]
  },
  {
   "cell_type": "markdown",
   "metadata": {},
   "source": [
    "#### 3️⃣ Bubble Sort 😪\n",
    "Bubble sort, también conocido como ordenamiento de burbuja, es un algoritmo simple de ordenamiento que funciona comparando repetidamente pares de elementos adyacentes y los intercambia si están en el orden incorrecto. El algoritmo recorre la lista varias veces hasta que no haya intercambios necesarios.\n",
    "\n",
    "Aquí te presento los pasos para realizar el bubble sort:\n",
    "\n",
    "- Comenzar desde el primer elemento de la lista y compararlo con el siguiente elemento.\n",
    "- Si el primer elemento es mayor que el segundo, intercambia los elementos.\n",
    "- Continúa comparando y intercambiando pares adyacentes de elementos en la lista hasta que llegues al final de la lista, comparando elementos de posicion i con i+1.\n",
    "- Vuelve a recorrer la lista desde el principio hasta el final, realizando los pasos 1-3, hasta que no haya más intercambios necesarios."
   ]
  },
  {
   "cell_type": "code",
   "execution_count": null,
   "metadata": {},
   "outputs": [],
   "source": [
    "def bubble_sort(arr):\n",
    "    pass #your code goes here\n",
    "\n",
    "#TESTER\n",
    "arr = [3,5,7,2,4,6,10]\n",
    "output = [2,3,4,5,6,7,10]\n",
    "\n",
    "#implementen cualquier array, te lo tiene que devolver ordenado"
   ]
  },
  {
   "cell_type": "markdown",
   "metadata": {},
   "source": [
    "#### 4️⃣ Ordenacion por minimos sucesivos:\n",
    "El proceso de ordenación por mínimos sucesivos se lleva a cabo de la siguiente manera:\n",
    "\n",
    "- Selecciona el primer elemento del conjunto de datos como el elemento mínimo.\n",
    "- Compara el elemento mínimo con el segundo elemento del conjunto de datos. Si el segundo elemento es menor que el mínimo, se intercambian las posiciones de los dos elementos. De lo contrario, el mínimo permanece en su posición actual.\n",
    "- Continúa comparando el elemento mínimo con el tercer elemento, el cuarto, el quinto, y así sucesivamente, hasta el final del conjunto de datos.\n",
    "- Después de la comparación de todos los elementos, el mínimo se coloca en la primera posición del conjunto de datos.\n",
    "- Se repite el proceso con los elementos restantes, es decir, se selecciona el siguiente mínimo en el conjunto de datos y se coloca en la segunda posición, luego se selecciona el tercer mínimo y se coloca en la tercera posición, y así sucesivamente."
   ]
  },
  {
   "cell_type": "code",
   "execution_count": null,
   "metadata": {},
   "outputs": [],
   "source": [
    "def minimos_sucesivos(arr):\n",
    "    pass\n",
    "\n",
    "#TESTER\n",
    "#cualquier array te lo deve devolver ordenado"
   ]
  },
  {
   "cell_type": "markdown",
   "metadata": {},
   "source": [
    "#### 5️⃣ FINAL BOSS: 🥵\n",
    " Cree una funcion llamada orden_num_letra que recibe un texto que contiene numeros y palabras separados por espacios y devuelva el texto con las siguientes modificaciones: 1.Todas las palabras deben ser invertidas. 2. El texto se va a ordenar de tal forma que, todos los numeros que sean <= que el len de una palabra deben estar ubicados antes que ella y los que son > que el len de la misma deben estar ubicados despues, si dos palabras tienen el mismo len, deben ser ordenadas alfabeticamente segun la palabra original (si yo tengo hole y hola, yo ubico primero hola y hole, y las devuelvo en orden inverso, aloh y eloh) y los numeros en orden creciente."
   ]
  },
  {
   "cell_type": "code",
   "execution_count": null,
   "metadata": {},
   "outputs": [],
   "source": [
    "def orden_num_letra(text):\n",
    "    pass #your code goes here\n",
    "\n",
    "#TESTER\n",
    "text = \"3 hola 2 yo 1 6 5 \"\n",
    "Output = \"1 2 oy 3 aloh 5 6 \"\n",
    "\n",
    "text = \"8 5 orrac ellob 2 dia 3 ozreumla 7 rop rovaf 4 nu 4 odaborpa 1\"\n",
    "output = \"1 2 3 dia por 4 4 bello carro 5 favor 7 8 almuerzo aprobado\"\n",
    "\n",
    "test = \"oy radorpa rop oreiuq rovaf\"\n",
    "output = \"yo por favor quiero aprobar\""
   ]
  }
 ],
 "metadata": {
  "kernelspec": {
   "display_name": "Python 3 (ipykernel)",
   "language": "python",
   "name": "python3"
  },
  "language_info": {
   "codemirror_mode": {
    "name": "ipython",
    "version": 3
   },
   "file_extension": ".py",
   "mimetype": "text/x-python",
   "name": "python",
   "nbconvert_exporter": "python",
   "pygments_lexer": "ipython3",
   "version": "3.11.2"
  }
 },
 "nbformat": 4,
 "nbformat_minor": 4
}
