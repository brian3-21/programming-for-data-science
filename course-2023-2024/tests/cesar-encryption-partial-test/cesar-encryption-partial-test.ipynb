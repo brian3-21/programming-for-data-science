{
 "cells": [
  {
   "cell_type": "markdown",
   "id": "00efe08c",
   "metadata": {},
   "source": [
    "# Programación • Ciencia de Datos • Prueba de Control Parcial"
   ]
  },
  {
   "cell_type": "markdown",
   "id": "e76192d6-1271-45d6-8e77-e24d0010e574",
   "metadata": {
    "tags": []
   },
   "source": [
    "### Información de Entrega 📢"
   ]
  },
  {
   "cell_type": "markdown",
   "id": "c40ea65d-cd89-45da-8cdb-d0bb75887f27",
   "metadata": {},
   "source": [
    "Estimados estudiantes, al finalizar la prueba, sigan cuidadosamente los siguientes pasos para entregar su trabajo:\n",
    "\n",
    "1. Asegúrense de haber completado todas las partes requeridas de la prueba y de haber guardado su archivo Jupyter Notebook (`.ipynb`) con todas las modificaciones.\n",
    "\n",
    "2. Cambien el nombre del archivo Jupyter Notebook a su nombre completo, incluyendo espacios, seguido de la extensión `.ipynb`. Por ejemplo, si su nombre es **Leynier Gutiérrez González**, el nombre del archivo debe ser `Leynier Gutiérrez González.ipynb`.\n",
    "\n",
    "3. Cuando estén listos para entregar la prueba, levanten la mano o avisen al profesor de alguna manera para que él se acerque a su lugar.\n",
    "\n",
    "4. Inserten la memoria USB proporcionada por el profesor en su computadora y copien el archivo Jupyter Notebook con su nombre completo en la memoria USB.\n",
    "\n",
    "5. Una vez que hayan copiado el archivo, avisen al profesor para que él verifique que su prueba ha sido recogida correctamente en la memoria USB.\n",
    "\n",
    "6. No se retiren de la sala de examen hasta que el profesor les haya confirmado que su prueba fue recogida satisfactoriamente.\n",
    "\n",
    "Siguiendo estos pasos, asegurarán que su prueba sea entregada correctamente y que haya constancia de su entrega. Por favor, recuerden ser cuidadosos con el nombre del archivo y esperar la confirmación del profesor antes de retirarse de la sala."
   ]
  },
  {
   "cell_type": "markdown",
   "id": "89acba9a-8944-480e-aa4c-99c28817f7ae",
   "metadata": {
    "tags": []
   },
   "source": [
    "### Enunciado de la Prueba • Cifrando como el César 🔐 🔠"
   ]
  },
  {
   "cell_type": "markdown",
   "id": "f1b5f3ef-1f57-474a-8dd0-dcc64917bd6b",
   "metadata": {},
   "source": [
    "En esta prueba, implementarás el cifrado César, un tipo de cifrado de sustitución simple en el que cada letra del mensaje original se reemplaza por otra letra a una distancia fija en el abecedario. Para este ejercicio, se debe utilizar el abecedario inglés en mayúsculas y sin incluir caracteres especiales o números.\n",
    "\n",
    "El desplazamiento es hacia la derecha y es cíclico, lo que significa que después de la última letra del abecedario (Z), vuelve a la primera (A).\n",
    "\n",
    "Instrucciones:\n",
    "\n",
    "- Escribe una función `encrypt` que tome dos argumentos: un mensaje en texto plano y un número entero (llave) que indica cuántas posiciones en el abecedario se desplazará cada letra. La función debe devolver el mensaje cifrado aplicando el cifrado César. Si el mensaje contiene caracteres que no sean letras mayúsculas, simplemente se deben dejar sin modificar.\n",
    "\n",
    "- Escribe una función `decrypt` que tome dos argumentos: un mensaje cifrado y la llave utilizada para cifrarlo. La función debe devolver el mensaje original en texto plano."
   ]
  },
  {
   "cell_type": "code",
   "execution_count": 1,
   "id": "f28c0414",
   "metadata": {
    "tags": []
   },
   "outputs": [],
   "source": [
    "import string\n",
    "\n",
    "ALPHABET = list(string.ascii_uppercase)\n",
    "\n",
    "def encrypt(message, key):\n",
    "    pass  # Implementar la función aquí\n",
    "\n",
    "def decrypt(message, key):\n",
    "    pass  # Implementar la función aquí"
   ]
  },
  {
   "cell_type": "markdown",
   "id": "833c4cba",
   "metadata": {
    "tags": []
   },
   "source": [
    "### Ejemplos de uso y resultados esperados"
   ]
  },
  {
   "cell_type": "markdown",
   "id": "5a919fcc-538a-4f1c-a644-98f600abb15b",
   "metadata": {},
   "source": [
    "Una vez implementadas las funciones `encrypt` y `decrypt`, ejecuta las siguientes celdas de código para probar tus funciones y verificar si producen los resultados esperados."
   ]
  },
  {
   "cell_type": "code",
   "execution_count": null,
   "id": "317a4dc5",
   "metadata": {},
   "outputs": [],
   "source": [
    "# Ejemplo 1:\n",
    "message1 = \"HELLO\"\n",
    "key1 = 3\n",
    "encrypted_message1 = encrypt(message1, key1)\n",
    "print(\"Mensaje cifrado:\", encrypted_message1)\n",
    "# Resultado esperado: KHOOR\n",
    "\n",
    "decrypted_message1 = decrypt(encrypted_message1, key1)\n",
    "print(\"Mensaje descifrado:\", decrypted_message1)\n",
    "# Resultado esperado: HELLO"
   ]
  },
  {
   "cell_type": "code",
   "execution_count": null,
   "id": "ff3ca928",
   "metadata": {},
   "outputs": [],
   "source": [
    "# Ejemplo 2:\n",
    "message2 = \"PYTHON\"\n",
    "key2 = 7\n",
    "encrypted_message2 = encrypt(message2, key2)\n",
    "print(\"Mensaje cifrado:\", encrypted_message2)\n",
    "# Resultado esperado: WFAEQT\n",
    "\n",
    "decrypted_message2 = decrypt(encrypted_message2, key2)\n",
    "print(\"Mensaje descifrado:\", decrypted_message2)\n",
    "# Resultado esperado: PYTHON"
   ]
  },
  {
   "cell_type": "code",
   "execution_count": null,
   "id": "2b769c14",
   "metadata": {},
   "outputs": [],
   "source": [
    "# Ejemplo 3:\n",
    "message3 = \"CESAR\"\n",
    "key3 = 10\n",
    "encrypted_message3 = encrypt(message3, key3)\n",
    "print(\"Mensaje cifrado:\", encrypted_message3)\n",
    "# Resultado esperado: MIKSB\n",
    "\n",
    "decrypted_message3 = decrypt(encrypted_message3, key3)\n",
    "print(\"Mensaje descifrado:\", decrypted_message3)\n",
    "# Resultado esperado: CESAR"
   ]
  }
 ],
 "metadata": {
  "kernelspec": {
   "display_name": "Python 3 (ipykernel)",
   "language": "python",
   "name": "python3"
  },
  "language_info": {
   "codemirror_mode": {
    "name": "ipython",
    "version": 3
   },
   "file_extension": ".py",
   "mimetype": "text/x-python",
   "name": "python",
   "nbconvert_exporter": "python",
   "pygments_lexer": "ipython3",
   "version": "3.11.2"
  }
 },
 "nbformat": 4,
 "nbformat_minor": 5
}
