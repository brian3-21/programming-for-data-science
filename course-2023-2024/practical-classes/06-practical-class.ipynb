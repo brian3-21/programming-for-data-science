{
 "cells": [
  {
   "cell_type": "markdown",
   "id": "e1b8897f-7ce4-45b9-b3fd-6c7adb037a4f",
   "metadata": {},
   "source": [
    "# Programación • Ciencia de Datos • Clase Práctica 0️⃣6️⃣"
   ]
  },
  {
   "cell_type": "markdown",
   "id": "c4c2e9f3",
   "metadata": {
    "jp-MarkdownHeadingCollapsed": true,
    "tags": []
   },
   "source": [
    "##### 1. Escribir una función que tome un diccionario de números y devuelva la suma de todos los valores del diccionario."
   ]
  },
  {
   "cell_type": "code",
   "execution_count": null,
   "id": "1097e6e8",
   "metadata": {},
   "outputs": [],
   "source": [
    "def sum_values(d):\n",
    "    ...\n",
    "    return total"
   ]
  },
  {
   "cell_type": "markdown",
   "id": "a648c471",
   "metadata": {
    "jp-MarkdownHeadingCollapsed": true,
    "tags": []
   },
   "source": [
    "##### 2. Escribir una función que tome un diccionario y devuelva un nuevo diccionario con las claves y valores intercambiados. Si hay más de una clave con el mismo valor en el diccionario original, el valor correspondiente en el diccionario resultante debe ser una lista que contenga todas las claves."
   ]
  },
  {
   "cell_type": "code",
   "execution_count": null,
   "id": "7be72f7b",
   "metadata": {},
   "outputs": [],
   "source": [
    "def invert_dict(d):\n",
    "    result = {}\n",
    "    ...\n",
    "    return result"
   ]
  },
  {
   "cell_type": "markdown",
   "id": "666c6cea",
   "metadata": {
    "jp-MarkdownHeadingCollapsed": true,
    "tags": []
   },
   "source": [
    "##### 3. Escribir una función que tome dos diccionarios y devuelva un nuevo diccionario que combine ambos de manera recursiva. Si una clave existe en ambos diccionarios y los valores asociados a esa clave son también diccionarios, entonces la función debe combinar esos sub-diccionarios de manera recursiva."
   ]
  },
  {
   "cell_type": "code",
   "execution_count": null,
   "id": "d1d4723e",
   "metadata": {},
   "outputs": [],
   "source": [
    "def recursive_merge_dicts(d1, d2):\n",
    "    result = {}\n",
    "    ...\n",
    "    return result"
   ]
  },
  {
   "cell_type": "markdown",
   "id": "9c1e1459",
   "metadata": {
    "jp-MarkdownHeadingCollapsed": true,
    "tags": []
   },
   "source": [
    "##### 4. Escribir una función recursiva que tome una cadena de caracteres y devuelva `True` si la cadena es un palíndromo, y `False` en caso contrario."
   ]
  },
  {
   "cell_type": "code",
   "execution_count": null,
   "id": "f486fad7",
   "metadata": {},
   "outputs": [],
   "source": [
    "def is_palindrome_recursive(s):\n",
    "    ...\n",
    "    return result"
   ]
  },
  {
   "cell_type": "markdown",
   "id": "10c47693",
   "metadata": {
    "jp-MarkdownHeadingCollapsed": true,
    "tags": []
   },
   "source": [
    "##### 5. Escribir una función recursiva que realice una búsqueda binaria. La función debe tomar una lista ordenada, un valor a buscar y retornar el índice del elemento en la lista si se encuentra. Si no se encuentra, debe retornar `-1`."
   ]
  },
  {
   "cell_type": "code",
   "execution_count": null,
   "id": "936204cc",
   "metadata": {},
   "outputs": [],
   "source": [
    "def binary_search_recursive(lst, value, low=None, high=None):\n",
    "    ...\n",
    "    return result"
   ]
  },
  {
   "cell_type": "markdown",
   "id": "d9de881b",
   "metadata": {
    "jp-MarkdownHeadingCollapsed": true,
    "tags": []
   },
   "source": [
    "##### 6. Escribir una función recursiva que implemente el algoritmo de ordenamiento **Merge Sort**. La función debe tomar una lista y devolver la lista ordenada."
   ]
  },
  {
   "cell_type": "code",
   "execution_count": null,
   "id": "078d357b",
   "metadata": {},
   "outputs": [],
   "source": [
    "def merge_sort_recursive(lst):\n",
    "    ...\n",
    "    return result"
   ]
  }
 ],
 "metadata": {
  "kernelspec": {
   "display_name": "Python 3 (ipykernel)",
   "language": "python",
   "name": "python3"
  },
  "language_info": {
   "codemirror_mode": {
    "name": "ipython",
    "version": 3
   },
   "file_extension": ".py",
   "mimetype": "text/x-python",
   "name": "python",
   "nbconvert_exporter": "python",
   "pygments_lexer": "ipython3",
   "version": "3.11.2"
  }
 },
 "nbformat": 4,
 "nbformat_minor": 5
}
