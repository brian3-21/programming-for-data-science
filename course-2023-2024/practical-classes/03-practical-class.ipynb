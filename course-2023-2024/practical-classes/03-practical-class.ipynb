{
 "cells": [
  {
   "cell_type": "markdown",
   "id": "c0c10326-9d95-4f4a-b65b-06f5439fdb5e",
   "metadata": {
    "tags": []
   },
   "source": [
    "# Programación • Ciencia de Datos • Clase Práctica 0️⃣3️⃣"
   ]
  },
  {
   "cell_type": "markdown",
   "id": "f4eeda3b-25bd-4a04-b449-4011ffc36dc1",
   "metadata": {
    "jp-MarkdownHeadingCollapsed": true,
    "tags": []
   },
   "source": [
    "### Descubriendo el ciclo `while` 🧐"
   ]
  },
  {
   "cell_type": "markdown",
   "id": "008795e1-4f07-45f0-be28-d4e63f28886c",
   "metadata": {
    "jp-MarkdownHeadingCollapsed": true,
    "tags": []
   },
   "source": [
    "##### 1. Imprima los primeros `n` números"
   ]
  },
  {
   "cell_type": "code",
   "execution_count": null,
   "id": "5efff2d2-f60f-42a9-94d0-221ae804c7e5",
   "metadata": {},
   "outputs": [],
   "source": [
    "n = int(input())\n",
    "i = ... # remplace los ... con su código\n",
    "\n",
    "...: # remplace los ... con su código\n",
    "    print(i)\n",
    "    i = ... # remplace los ... con su código"
   ]
  },
  {
   "cell_type": "markdown",
   "id": "415e1ac8-e659-494a-8840-b863e7d902a9",
   "metadata": {
    "jp-MarkdownHeadingCollapsed": true,
    "tags": []
   },
   "source": [
    "##### 2. Dado un número entero imprima la cantidad de dígitos que posee"
   ]
  },
  {
   "cell_type": "code",
   "execution_count": null,
   "id": "04a5ed05-73ae-4aef-9e94-1b69290082f3",
   "metadata": {
    "tags": [],
    "vscode": {
     "languageId": "python"
    }
   },
   "outputs": [],
   "source": [
    "n = int(input())\n",
    "number_of_digits = ... # remplace los ... con su código\n",
    "\n",
    "while ...: # remplace los ... con su código\n",
    "    n = ... # remplace los ... con su código\n",
    "    number_of_digits = ... # remplace los ... con su código\n",
    "\n",
    "print(number_of_digits)"
   ]
  },
  {
   "cell_type": "markdown",
   "id": "85f63686-347a-4892-8736-e14169cdd5f2",
   "metadata": {
    "jp-MarkdownHeadingCollapsed": true,
    "tags": []
   },
   "source": [
    "##### 3. Un goblin se ha robado el signo de división entera `//` de Python y justo ahora necesitas obtener el resultado de la división entera entre dos números `a` y `b`. Programe un código que calcule esto sin usar nunca el signo `/`"
   ]
  },
  {
   "cell_type": "code",
   "execution_count": null,
   "id": "93591752-ef77-43bf-89ce-14678675fd71",
   "metadata": {
    "vscode": {
     "languageId": "python"
    }
   },
   "outputs": [],
   "source": [
    "a = int(input())\n",
    "b = int(input())\n",
    "result = 0\n",
    "\n",
    "while ...: # remplace los ... con su código\n",
    "    a = ... # remplace los ... con su código\n",
    "    result = ... # remplace los ... con su código\n",
    "\n",
    "print(result)"
   ]
  },
  {
   "cell_type": "markdown",
   "id": "2f661992-5dac-4459-bb25-f826a51b5629",
   "metadata": {
    "jp-MarkdownHeadingCollapsed": true,
    "tags": []
   },
   "source": [
    "##### 4. Dado un número imprimalo invertido, es decir, si el número era `12345` debera imprimir `54321`"
   ]
  },
  {
   "cell_type": "code",
   "execution_count": null,
   "id": "7938f4f3-0035-4f05-bca7-13f62d8fa329",
   "metadata": {
    "vscode": {
     "languageId": "python"
    }
   },
   "outputs": [],
   "source": [
    "n = int(input())\n",
    "number_inverted = ''\n",
    "\n",
    "while n: # Note que esto es lo mismo que escribir n != 0\n",
    "    number_inverted ... # remplace los ... con su código\n",
    "    n ... # remplace los ... con su código\n",
    "\n",
    "print(number_inverted)"
   ]
  },
  {
   "cell_type": "markdown",
   "id": "db7f7531-b094-4435-b891-4488ba03814f",
   "metadata": {
    "jp-MarkdownHeadingCollapsed": true,
    "tags": []
   },
   "source": [
    "##### 5. Algunos problemas para hacer en casa usando el ciclo While"
   ]
  },
  {
   "cell_type": "markdown",
   "id": "10de809e-2136-48f5-af29-1787f502fe92",
   "metadata": {},
   "source": [
    " - 5.1) Diseñe un programa que solicite la entrada de un número entre `a` y `b`. Si el usuario teclea un número fuera del rango válido, el programa solicitará de nuevo la entrada del valor hasta que esta este en el rango solicitado.\n",
    " - 5.2) Un palíndromo es una palabra, número o frase que se lee igual hacia adelante que hacia atrás. Cree un programa que dado un número determine si este es palindromo.\n",
    " - 5.3) Dado un número determinar si es divisible por `3`. Un número es divisible por `3` si la suma de sus cifras es un múltiplo de `3`, intente hacerlo de esta manera sin usar su modulo."
   ]
  },
  {
   "cell_type": "markdown",
   "id": "0f93580a-1033-4c4b-84ba-9ae9576734d4",
   "metadata": {
    "jp-MarkdownHeadingCollapsed": true,
    "tags": []
   },
   "source": [
    "### Descubriendo el ciclo `for` 🤓"
   ]
  },
  {
   "cell_type": "markdown",
   "id": "36f315fc-c7c0-427c-b255-449663b144c7",
   "metadata": {
    "jp-MarkdownHeadingCollapsed": true,
    "tags": []
   },
   "source": [
    "##### 1. Imprima la palabra \"Algoritmo\" N veces"
   ]
  },
  {
   "cell_type": "code",
   "execution_count": null,
   "id": "a521a3db-5dbb-4556-8121-8277833aef9b",
   "metadata": {
    "tags": [],
    "vscode": {
     "languageId": "python"
    }
   },
   "outputs": [],
   "source": [
    "n = int(input())\n",
    "\n",
    "for i in ...: # remplace los ... con su código\n",
    "    print(\"Algoritmo\")"
   ]
  },
  {
   "cell_type": "markdown",
   "id": "a360f36d-6a67-4685-82ab-fd66caea329e",
   "metadata": {
    "jp-MarkdownHeadingCollapsed": true,
    "tags": []
   },
   "source": [
    "##### 2. Imprimir todos los números en un intervalo dado por el usuario"
   ]
  },
  {
   "cell_type": "code",
   "execution_count": null,
   "id": "9ab30f10-7dd2-4e8b-94b9-2bd49125907d",
   "metadata": {
    "tags": [],
    "vscode": {
     "languageId": "python"
    }
   },
   "outputs": [],
   "source": [
    "left = int(input())\n",
    "right = int(input())\n",
    "\n",
    "for i in ...: # remplace los ... con su código\n",
    "    print(i)"
   ]
  },
  {
   "cell_type": "markdown",
   "id": "3913fd3b-82d1-4bab-95d5-8aee4a9eba3a",
   "metadata": {
    "jp-MarkdownHeadingCollapsed": true,
    "tags": []
   },
   "source": [
    "##### 3. Imprimir todos los números impares en un intervalo dado por el usuario (sin usar if dentro de for)"
   ]
  },
  {
   "cell_type": "code",
   "execution_count": null,
   "id": "30d6e254-fa52-49b1-bccd-0d8652698170",
   "metadata": {
    "vscode": {
     "languageId": "python"
    }
   },
   "outputs": [],
   "source": [
    "left = int(input())\n",
    "right = int(input())\n",
    "\n",
    "... # remplace los ... con su código\n",
    "\n",
    "for i in range(left, right + 1, ...): # remplace los ... con su código\n",
    "    print(i)"
   ]
  },
  {
   "cell_type": "markdown",
   "id": "78411072-39c1-46c4-a84b-bee2dbb71dcb",
   "metadata": {
    "jp-MarkdownHeadingCollapsed": true,
    "tags": []
   },
   "source": [
    "##### 4. Imprimir todos los números impares en orden descendente en un intervalo dado por el usuario (sin usar if dentro de for)"
   ]
  },
  {
   "cell_type": "code",
   "execution_count": null,
   "id": "df455ee5-473e-4c90-b32e-5c3c2779c67e",
   "metadata": {
    "vscode": {
     "languageId": "python"
    }
   },
   "outputs": [],
   "source": [
    "left = int(input())\n",
    "right = int(input())\n",
    "\n",
    "... # remplace los ... con su código\n",
    "\n",
    "for i in range(...): # remplace los ... con su código\n",
    "    print(i)"
   ]
  },
  {
   "cell_type": "markdown",
   "id": "c4c47bf0-c604-4302-a9a9-cbfec74699ba",
   "metadata": {
    "jp-MarkdownHeadingCollapsed": true,
    "tags": []
   },
   "source": [
    "##### 5. Imprima todos los divisores de un número dado"
   ]
  },
  {
   "cell_type": "code",
   "execution_count": null,
   "id": "c724d9f0-45b6-4585-91c1-132c6b4d5ad1",
   "metadata": {
    "tags": [],
    "vscode": {
     "languageId": "python"
    }
   },
   "outputs": [],
   "source": [
    "n = int(input())\n",
    "\n",
    "for i in range(...): # remplace los ... con su código\n",
    "    if ...: # remplace los ... con su código\n",
    "        print(i)"
   ]
  },
  {
   "cell_type": "markdown",
   "id": "7f6f5283-b793-445b-9aa0-c2b45a43aa4e",
   "metadata": {
    "jp-MarkdownHeadingCollapsed": true,
    "tags": []
   },
   "source": [
    "##### 6. Algunos problemas para hacer en casa usando el ciclo For"
   ]
  },
  {
   "cell_type": "markdown",
   "id": "96528674-f75e-4196-9c7b-ffc901458d8f",
   "metadata": {},
   "source": [
    " - 6.1) Calcule el promedio de todos los números pares menores que `M`.\n",
    " - 6.2) Dado dos números que representan un intervalo, mostrar todos los números terminados en `4` comprendidos en dicho intervalo.\n",
    " - 6.3) Confeccione un programa que imprima todos los números de `3` cifras divisibles por `5`, tales que la suma de sus dígitos sea `12`.\n",
    " - 6.4) Determine si `2` números son primos entre si, o sea, que solo tienen como divisor común al número `1`."
   ]
  },
  {
   "cell_type": "markdown",
   "id": "142fb1e6-ef2d-4f1a-ba35-484df394328c",
   "metadata": {
    "jp-MarkdownHeadingCollapsed": true,
    "tags": []
   },
   "source": [
    "### Es hora de hacer Alquimia (ciclos dentro de ciclos) 😱"
   ]
  },
  {
   "cell_type": "markdown",
   "id": "9b7b372f-3860-4270-a696-8e6f1b1179e5",
   "metadata": {
    "jp-MarkdownHeadingCollapsed": true,
    "tags": []
   },
   "source": [
    "##### 1. Imprima un cubo de `n` filas y `m` columnas con todos los números de `1` a `n * m`"
   ]
  },
  {
   "cell_type": "code",
   "execution_count": null,
   "id": "a62b6ba9-05e9-4461-8d5e-0d94111cbae7",
   "metadata": {
    "vscode": {
     "languageId": "python"
    }
   },
   "outputs": [],
   "source": [
    "n = int(input())\n",
    "m = int(input())\n",
    "... # remplace los ... con su código\n",
    "\n",
    "for i in range(n):\n",
    "    for j in range(m):\n",
    "        print(..., end=' ') # remplace los ... con su código\n",
    "        ... # remplace los ... con su código\n",
    "    print()"
   ]
  },
  {
   "cell_type": "markdown",
   "id": "c0ff367c-1634-44a4-be06-a76f4dc8c656",
   "metadata": {
    "jp-MarkdownHeadingCollapsed": true,
    "tags": []
   },
   "source": [
    "##### 2. Para los `N` primeros números imprima los divisores de cada uno"
   ]
  },
  {
   "cell_type": "code",
   "execution_count": null,
   "id": "80bf8ec7-e4bd-4efb-98bf-0e72055bee75",
   "metadata": {
    "vscode": {
     "languageId": "python"
    }
   },
   "outputs": [],
   "source": [
    "n = int(input())\n",
    "\n",
    "for i in range(...): # remplace los ... con su código\n",
    "    print(f\"Divisores de {i}:\")\n",
    "    for j in range(...): # remplace los ... con su código\n",
    "        if ...: # remplace los ... con su código\n",
    "            print(j)"
   ]
  },
  {
   "cell_type": "markdown",
   "id": "5c83dd8c-cc6e-41c5-a035-37414724e7c0",
   "metadata": {
    "jp-MarkdownHeadingCollapsed": true,
    "tags": []
   },
   "source": [
    "##### 3. Imprima un triángulo de asteriscos de tamaño `n * n`, por ejemplo para `n` igual a `4` el triángulo seria:"
   ]
  },
  {
   "cell_type": "markdown",
   "id": "72b2e7cd-0a16-4c30-86fc-92922245d412",
   "metadata": {},
   "source": [
    "<pre>\n",
    "*  \n",
    "**  \n",
    "***  \n",
    "****\n",
    "</pre>"
   ]
  },
  {
   "cell_type": "code",
   "execution_count": null,
   "id": "34328fee-96a1-492a-9a06-477ea731bfca",
   "metadata": {
    "vscode": {
     "languageId": "python"
    }
   },
   "outputs": [],
   "source": [
    "n = int(input())\n",
    "\n",
    "for i in range(...): # remplace los ... con su código\n",
    "    for j in range(...): # remplace los ... con su código\n",
    "        print('*', end='')\n",
    "    ... # remplace los ... con su código"
   ]
  },
  {
   "cell_type": "markdown",
   "id": "41c099a6-fe98-436c-90bc-d567d995bcb7",
   "metadata": {
    "jp-MarkdownHeadingCollapsed": true,
    "tags": []
   },
   "source": [
    "##### 4. Algunos ejercicios usando ciclos anidados:"
   ]
  },
  {
   "cell_type": "markdown",
   "id": "31119bf7-f147-4503-bcc0-a7107bee8e90",
   "metadata": {},
   "source": [
    " - 4.1) Imprima todos los números palíndromos de `3` cifras\n",
    " - 4.2) Imprima todos los números primos hasta `N`, un número es primo si solo es divisible por `1` y el mismo\n",
    " - 4.3) Imprima un tringulo de `N * N` pero invertido, para `4` este seria:\n",
    "    <pre>\n",
    "    ****  \n",
    "    ***  \n",
    "    **   \n",
    "    *  \n",
    "    </pre>\n",
    " - 4.4) Imprima un triángulo de `N * N` invertido en ambos ejes, ejemplo:\n",
    "    <pre>\n",
    "    ****  \n",
    "     ***  \n",
    "      **   \n",
    "       *\n",
    "    </pre>\n",
    " - 4.5) Imprima un asterisco de un tamaño dado, ejemplo para `n = 4`:\n",
    "    <pre>\n",
    "       *\n",
    "      ***\n",
    "     *****\n",
    "    ******* \n",
    "     *****\n",
    "      ***\n",
    "       *\n",
    "    </pre>"
   ]
  },
  {
   "cell_type": "markdown",
   "id": "52cb5509-5efa-424e-bd09-11ece7d1c527",
   "metadata": {
    "jp-MarkdownHeadingCollapsed": true,
    "tags": []
   },
   "source": [
    "### El jefe final de la clase 🔥"
   ]
  },
  {
   "cell_type": "markdown",
   "id": "fb7e4f89-04c4-4057-87b1-7291d7ccb5b1",
   "metadata": {},
   "source": [
    "Este ejercicio es mucho más dificil que todos los anteriores, lo dejaremos aqui pues la leyenda cuenta que solo el verdadero heredero del primer rey de Numenor, futuro rey de Gondor podrá resolverlo. Este es el ejercicio:  \n",
    "\n",
    "El Triángulo de Mordor se genera a partir de dos números, su tamaño y su semilla. El tamaño `N` determina cuántas filas hay en el triángulo y la semilla `S` determina el primer número en el triángulo. Para ver como se genera el triángulo observe los ejemplos siguientes:\n",
    "\n",
    "<pre>\n",
    "    N=5, S=3           N=6, S=1\n",
    "    3 4 6 9 4          1 2 4 7 2 7\n",
    "      5 7 1 5            3 5 8 3 8\n",
    "        8 2 6              6 9 4 9\n",
    "          3 7                1 5 1\n",
    "            8                  6 2\n",
    "                                 3\n",
    "</pre>\n",
    "\n",
    "Usted deberá resolver este problema usando lo dado hasta ahora en el curso, esto significa que no puede usar listas ni diccionarios. En caso de resolverlo puede enviar su respuesta a alguno de sus profesores de clase practica, quizas reciba alguna bonificacion."
   ]
  }
 ],
 "metadata": {
  "kernelspec": {
   "display_name": "Python 3 (ipykernel)",
   "language": "python",
   "name": "python3"
  },
  "language_info": {
   "codemirror_mode": {
    "name": "ipython",
    "version": 3
   },
   "file_extension": ".py",
   "mimetype": "text/x-python",
   "name": "python",
   "nbconvert_exporter": "python",
   "pygments_lexer": "ipython3",
   "version": "3.11.2"
  }
 },
 "nbformat": 4,
 "nbformat_minor": 5
}
