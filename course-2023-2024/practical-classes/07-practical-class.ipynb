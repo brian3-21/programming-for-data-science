{
 "cells": [
  {
   "cell_type": "markdown",
   "id": "e1b8897f-7ce4-45b9-b3fd-6c7adb037a4f",
   "metadata": {},
   "source": [
    "# Programación • Ciencia de Datos • Clase Práctica 0️⃣7️⃣"
   ]
  },
  {
   "cell_type": "markdown",
   "id": "c4c2e9f3",
   "metadata": {
    "jp-MarkdownHeadingCollapsed": true,
    "tags": []
   },
   "source": [
    "##### 1. Implemente una función que dado un número `n` par calcule la cantidad de cadenas de paréntesis balanceada utilizando recursividad."
   ]
  },
  {
   "cell_type": "code",
   "execution_count": null,
   "id": "5bc45730-ea01-4b5d-8888-6b51b2726f4d",
   "metadata": {
    "tags": []
   },
   "outputs": [],
   "source": [
    "def balanced_parentheses(n):\n",
    "    ..."
   ]
  },
  {
   "cell_type": "markdown",
   "id": "ac702685-7b15-479e-8b6b-329af2c5505c",
   "metadata": {
    "jp-MarkdownHeadingCollapsed": true,
    "tags": []
   },
   "source": [
    "##### 2. Implemente una función que dado un número `n` calcule la cantidad de sistemas montañosos."
   ]
  },
  {
   "cell_type": "markdown",
   "id": "07d4bf42-5a54-4e28-a0fe-a53b17e2ca20",
   "metadata": {},
   "source": [
    "**Ejemplos:**\n",
    "\n",
    "- Para `n = 1`: `1` sistema montañoso\n",
    "\n",
    "    ```\n",
    "    /\\\n",
    "    ```\n",
    "\n",
    "- Para `n = 2`: `2` sistemas montañosos\n",
    "\n",
    "    ```\n",
    "            /\\\n",
    "    /\\/\\ , /  \\\n",
    "    ```\n",
    "\n",
    "- Para `n = 3`: `5` sistemas montañosos\n",
    "\n",
    "    ```\n",
    "                                          /\\\n",
    "                /\\     /\\       /\\/\\     /  \\\n",
    "    /\\/\\/\\ , /\\/  \\ , /  \\/\\ , /    \\ , /    \\\n",
    "    ```"
   ]
  },
  {
   "cell_type": "code",
   "execution_count": null,
   "id": "f083c709-677a-46cd-a33e-c8413150027f",
   "metadata": {
    "tags": []
   },
   "outputs": [],
   "source": [
    "def count_mountain_systems(n):\n",
    "    ..."
   ]
  },
  {
   "cell_type": "markdown",
   "id": "d6a65788-0266-403e-aa2e-aa91023e507c",
   "metadata": {
    "jp-MarkdownHeadingCollapsed": true,
    "tags": []
   },
   "source": [
    "##### 3. Implemente una función que dado un número `n` y un número `k` calcule la cantidad de escaleras que se pueden formar donde la altura de los escalones sean menor igual a `k`."
   ]
  },
  {
   "cell_type": "markdown",
   "id": "31dd4014-3575-4d45-aa1e-4082fb4e214a",
   "metadata": {},
   "source": [
    "**Ejemplos**:\n",
    "\n",
    "- Para `n = 1` y `k = 1`: `2` escaleras\n",
    "\n",
    "    ```\n",
    "    1. _\n",
    "    \n",
    "    2. |\n",
    "    ```\n",
    "\n",
    "- Para `n = 2` y `k = 1`: `3` escaleras\n",
    "\n",
    "    ```\n",
    "    1. _|\n",
    "    \n",
    "    2.  _\n",
    "       |\n",
    "    \n",
    "    3. __\n",
    "    ```\n",
    "    \n",
    "    ---\n",
    "    \n",
    "    La solución\n",
    "    \n",
    "    ```\n",
    "    |\n",
    "    |\n",
    "    ```\n",
    "    \n",
    "    no es válida porque `k = 1` y el escalón tendría altura `2`"
   ]
  },
  {
   "cell_type": "code",
   "execution_count": null,
   "id": "dd108e09-e7fa-47da-ac2d-201db16a75dc",
   "metadata": {
    "tags": []
   },
   "outputs": [],
   "source": [
    "def count_stairs(n, k):\n",
    "    ..."
   ]
  },
  {
   "cell_type": "markdown",
   "id": "cac8d0f3-2685-4a3c-a652-cdc1c7a34b65",
   "metadata": {
    "jp-MarkdownHeadingCollapsed": true,
    "tags": []
   },
   "source": [
    "##### 4. Implemente una función que calcule la cantidad de formas que tiene una pieza de caballo en un ajedrez de comenzar en la casilla superior izquierda y terminar en la inferior derecha sin repetir casillas."
   ]
  },
  {
   "cell_type": "code",
   "execution_count": 6,
   "id": "d2984a5a-9e6d-4871-9d7f-ee0eb92f3c65",
   "metadata": {
    "tags": []
   },
   "outputs": [],
   "source": [
    "def count_horse_paths():\n",
    "    ..."
   ]
  },
  {
   "cell_type": "markdown",
   "id": "79d950ae-d661-4c4a-b667-0250e1664881",
   "metadata": {
    "jp-MarkdownHeadingCollapsed": true,
    "tags": []
   },
   "source": [
    "##### 5. Implemente una función que reciba una matriz de carácteres formando un laberinto y calcule cuantas formas de recorrer el laberinto hay."
   ]
  },
  {
   "cell_type": "markdown",
   "id": "7887c6e6-33e8-4576-bff8-894bcb900e3c",
   "metadata": {},
   "source": [
    "Los caracteres son `' '` para un espacio libre, `'*'` para un espacio ocupado, `'s'` para la posición inicial y `'e'` para la posición final."
   ]
  },
  {
   "cell_type": "code",
   "execution_count": 8,
   "id": "ada2d2be-ea8f-4542-a9c1-bebc7c22081e",
   "metadata": {
    "tags": []
   },
   "outputs": [],
   "source": [
    "def count_maze_paths(maze):\n",
    "    ..."
   ]
  },
  {
   "cell_type": "markdown",
   "id": "5bfe1eaf-efa5-411d-b3b2-1b06021640cf",
   "metadata": {
    "jp-MarkdownHeadingCollapsed": true,
    "tags": []
   },
   "source": [
    "##### 6. Implemente una función que dado una lista de números enteros y un entero `k` diga si existe un subconjunto de la lista de números que sume `k`."
   ]
  },
  {
   "cell_type": "code",
   "execution_count": 9,
   "id": "1e655e8b-59d5-4e6d-91bb-42b6b8028030",
   "metadata": {
    "tags": []
   },
   "outputs": [],
   "source": [
    "def sub_set_sum(numbers, k):\n",
    "    ..."
   ]
  },
  {
   "cell_type": "markdown",
   "id": "79d9f393-5900-4b21-b609-e59c0859943a",
   "metadata": {
    "jp-MarkdownHeadingCollapsed": true,
    "tags": []
   },
   "source": [
    "##### 7. Implemente una función que imprima todas las posibles disposiciones de `n` reinas en un tablero de ajedrez de `n` por `n`, de modo que ninguna de las reinas se ataque entre sí."
   ]
  },
  {
   "cell_type": "code",
   "execution_count": 12,
   "id": "5f89827e-411c-40be-a5d5-b5159c6a37cd",
   "metadata": {
    "tags": []
   },
   "outputs": [],
   "source": [
    "def n_queens_solver(n):\n",
    "    ..."
   ]
  },
  {
   "cell_type": "markdown",
   "id": "05a28f17-505e-4330-bedb-7da325456b76",
   "metadata": {
    "jp-MarkdownHeadingCollapsed": true,
    "tags": []
   },
   "source": [
    "##### 8. Implemente una función que reciba una matriz con un Sudoku y devuelva la solución del Sudoku."
   ]
  },
  {
   "cell_type": "code",
   "execution_count": 13,
   "id": "5f70b59d-db31-4d3e-aeb7-5477beb439ac",
   "metadata": {
    "tags": []
   },
   "outputs": [],
   "source": [
    "def sudoku_solver(table):\n",
    "    ..."
   ]
  }
 ],
 "metadata": {
  "kernelspec": {
   "display_name": "Python 3 (ipykernel)",
   "language": "python",
   "name": "python3"
  },
  "language_info": {
   "codemirror_mode": {
    "name": "ipython",
    "version": 3
   },
   "file_extension": ".py",
   "mimetype": "text/x-python",
   "name": "python",
   "nbconvert_exporter": "python",
   "pygments_lexer": "ipython3",
   "version": "3.11.3"
  }
 },
 "nbformat": 4,
 "nbformat_minor": 5
}
