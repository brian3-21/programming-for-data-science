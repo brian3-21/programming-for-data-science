{
 "cells": [
  {
   "cell_type": "markdown",
   "id": "a8ee116b-7563-4a46-b02e-0ac2187dbe99",
   "metadata": {},
   "source": [
    "# Programación • Ciencia de Datos • Clase Práctica 0️⃣4️⃣"
   ]
  },
  {
   "cell_type": "markdown",
   "id": "26d05e26-7995-45ff-8365-932a6969cbf6",
   "metadata": {
    "jp-MarkdownHeadingCollapsed": true,
    "tags": []
   },
   "source": [
    "### Usando `slices` 🔪🍰"
   ]
  },
  {
   "cell_type": "markdown",
   "id": "3428774f-6c15-414d-b701-c40dea057b98",
   "metadata": {
    "jp-MarkdownHeadingCollapsed": true,
    "tags": []
   },
   "source": [
    "##### 1. Escribir un programa que tome un texto como entrada y devuelva los dos primeros caracteres."
   ]
  },
  {
   "cell_type": "code",
   "execution_count": null,
   "id": "97133410-2eac-4e60-a740-770ba014b4fc",
   "metadata": {},
   "outputs": [],
   "source": [
    "s = input(\"Introduce un texto: \")\n",
    "\n",
    "first_two = s[...] # remplace los ... con su código\n",
    "\n",
    "print(first_two)"
   ]
  },
  {
   "cell_type": "markdown",
   "id": "e605dec6-2285-491e-8099-a614b2419d2e",
   "metadata": {
    "jp-MarkdownHeadingCollapsed": true,
    "tags": []
   },
   "source": [
    "##### 2. Escribir un programa que tome un texto como entrada y devuelva los últimos dos caracteres."
   ]
  },
  {
   "cell_type": "code",
   "execution_count": null,
   "id": "56b5f216-5ca6-43d2-9ba0-8fccc67795ad",
   "metadata": {},
   "outputs": [],
   "source": [
    "s = input(\"Introduce un texto: \")\n",
    "\n",
    "last_two = s[...] # remplace los ... con su código\n",
    "\n",
    "print(last_two)"
   ]
  },
  {
   "cell_type": "markdown",
   "id": "56f607b6-bf62-41f2-9fc7-7ac01c91fb8e",
   "metadata": {
    "jp-MarkdownHeadingCollapsed": true,
    "tags": []
   },
   "source": [
    "##### 3. Escribir un programa que tome un texto como entrada y devuelva una cadena con los caracteres en posición impar."
   ]
  },
  {
   "cell_type": "code",
   "execution_count": null,
   "id": "51573f86-8b00-44cd-8351-b9922f070da9",
   "metadata": {
    "tags": []
   },
   "outputs": [],
   "source": [
    "s = input(\"Introduce un texto: \")\n",
    "\n",
    "odd_chars = s[...] # remplace los ... con su código\n",
    "\n",
    "print(odd_chars)"
   ]
  },
  {
   "cell_type": "markdown",
   "id": "34829cf2-d7d1-4eb7-af23-5f0b4a09966b",
   "metadata": {
    "jp-MarkdownHeadingCollapsed": true,
    "tags": []
   },
   "source": [
    "##### 4. Escribir un programa que tome un texto como entrada y devuelva una cadena con los caracteres en posición par."
   ]
  },
  {
   "cell_type": "code",
   "execution_count": null,
   "id": "bdeaad4e-4632-4a69-b234-ac458ff1f280",
   "metadata": {
    "tags": []
   },
   "outputs": [],
   "source": [
    "s = input(\"Introduce un texto: \")\n",
    "\n",
    "even_chars = s[...] # remplace los ... con su código\n",
    "\n",
    "print(even_chars)"
   ]
  },
  {
   "cell_type": "markdown",
   "id": "13954797-e3d6-4e89-b76d-90fd40cc8fd8",
   "metadata": {
    "jp-MarkdownHeadingCollapsed": true,
    "tags": []
   },
   "source": [
    "##### 5. Escribir un programa que tome un texto como entrada y devuelva una cadena con los caracteres en orden inverso."
   ]
  },
  {
   "cell_type": "code",
   "execution_count": null,
   "id": "f614fd96-4009-4e08-aadc-4d73e25a6d46",
   "metadata": {},
   "outputs": [],
   "source": [
    "s = input(\"Introduce un texto: \")\n",
    "\n",
    "reverse = s[...] # remplace los ... con su código\n",
    "\n",
    "print(reverse)"
   ]
  },
  {
   "cell_type": "markdown",
   "id": "fcf03d07-5479-4f6b-96e5-ed36b4363603",
   "metadata": {
    "jp-MarkdownHeadingCollapsed": true,
    "tags": []
   },
   "source": [
    "##### 6. Escribir un programa que tome un texto como entrada y devuelva una cadena con los caracteres en orden inverso, pero solo los caracteres en posición par."
   ]
  },
  {
   "cell_type": "code",
   "execution_count": null,
   "id": "ba741d9d-00a5-47e5-8ebc-efd152962f5c",
   "metadata": {},
   "outputs": [],
   "source": [
    "s = input(\"Introduce un texto: \")\n",
    "\n",
    "reverse_even = s[...] # remplace los ... con su código\n",
    "\n",
    "print(reverse_even)"
   ]
  },
  {
   "cell_type": "markdown",
   "id": "a24bb4f5-a6d6-4ce0-a96e-8576ecd900dd",
   "metadata": {
    "jp-MarkdownHeadingCollapsed": true,
    "tags": []
   },
   "source": [
    "### Resolviendo problemas 🛠"
   ]
  },
  {
   "cell_type": "markdown",
   "id": "99e1b2fc-6e27-4475-8d15-9b9948bec035",
   "metadata": {
    "jp-MarkdownHeadingCollapsed": true,
    "tags": []
   },
   "source": [
    "##### 1. Contar la cantidad de veces que aparece una letra en una cadena."
   ]
  },
  {
   "cell_type": "code",
   "execution_count": null,
   "id": "8d679d44-84f1-4afc-8e98-a373ea98313d",
   "metadata": {},
   "outputs": [],
   "source": [
    "def count_letter(string, letter):\n",
    "    ...  # remplace los ... con su código\n",
    "    for char in string:\n",
    "        ...  # remplace los ... con su código\n",
    "    return ...  # remplace los ... con su código"
   ]
  },
  {
   "cell_type": "markdown",
   "id": "a9500428-07c4-487a-873e-ed2f2756d94a",
   "metadata": {
    "jp-MarkdownHeadingCollapsed": true,
    "tags": []
   },
   "source": [
    "##### 2. Encontrar la posición de la primera ocurrencia de una subcadena dentro de una cadena."
   ]
  },
  {
   "cell_type": "code",
   "execution_count": null,
   "id": "6ad26cc5-4306-4785-85f0-f57869d33592",
   "metadata": {},
   "outputs": [],
   "source": [
    "def find_substring(string, substring):\n",
    "    for i in range(...): # remplace los ... con su código\n",
    "        ...  # remplace los ... con su código\n",
    "    return -1"
   ]
  },
  {
   "cell_type": "markdown",
   "id": "13fb8e40-3c34-41cc-9b47-cfe215ac36d1",
   "metadata": {
    "jp-MarkdownHeadingCollapsed": true,
    "tags": []
   },
   "source": [
    "##### 3. Reemplazar todas las ocurrencias de una letra en una cadena con otra letra."
   ]
  },
  {
   "cell_type": "code",
   "execution_count": null,
   "id": "a84cbf81-38fa-40a0-9390-9a12ec086619",
   "metadata": {},
   "outputs": [],
   "source": [
    "def replace_letter(string, old_letter, new_letter):\n",
    "    ...  # remplace los ... con su código\n",
    "    for char in string:\n",
    "        ...  # remplace los ... con su código\n",
    "    return ...  # remplace los ... con su código"
   ]
  },
  {
   "cell_type": "markdown",
   "id": "88d410f9-9b61-4cb5-bb81-79be3c7cfdaf",
   "metadata": {
    "jp-MarkdownHeadingCollapsed": true,
    "tags": []
   },
   "source": [
    "##### 4. Encontrar la palabra más larga en una cadena."
   ]
  },
  {
   "cell_type": "code",
   "execution_count": null,
   "id": "3118cf38-7868-4552-a02f-d7abf25c08a0",
   "metadata": {},
   "outputs": [],
   "source": [
    "def longest_word(string):\n",
    "    words = ...  # remplace los ... con su código\n",
    "    longest_word = \"\"\n",
    "    for word in words:\n",
    "        ...  # remplace los ... con su código\n",
    "    return longest_word"
   ]
  }
 ],
 "metadata": {
  "kernelspec": {
   "display_name": "Python 3 (ipykernel)",
   "language": "python",
   "name": "python3"
  },
  "language_info": {
   "codemirror_mode": {
    "name": "ipython",
    "version": 3
   },
   "file_extension": ".py",
   "mimetype": "text/x-python",
   "name": "python",
   "nbconvert_exporter": "python",
   "pygments_lexer": "ipython3",
   "version": "3.11.2"
  }
 },
 "nbformat": 4,
 "nbformat_minor": 5
}
