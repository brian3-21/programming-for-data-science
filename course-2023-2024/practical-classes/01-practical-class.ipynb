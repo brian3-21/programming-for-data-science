{
 "cells": [
  {
   "cell_type": "markdown",
   "id": "8f431df2-9352-4656-8d22-bdd51ffdca73",
   "metadata": {
    "tags": []
   },
   "source": [
    "# Programación • Ciencia de Datos • Clase Práctica 0️⃣1️⃣"
   ]
  },
  {
   "cell_type": "markdown",
   "id": "52602c20-ae03-4ba1-9605-a1d5caf58b62",
   "metadata": {
    "jp-MarkdownHeadingCollapsed": true,
    "tags": []
   },
   "source": [
    "### Tipos de errores 💥"
   ]
  },
  {
   "cell_type": "markdown",
   "id": "98c87458-7428-4276-9ace-658f0551d1e9",
   "metadata": {
    "tags": []
   },
   "source": [
    "Qué tipos de errores se lanzarán al ejecutar las celdas de código?\n",
    "\n",
    "> Responda antes de ejecutar el código\n",
    "\n",
    "* Sintáctico\n",
    "* Semántico\n",
    "* Solución no esperada\n",
    "* No parada"
   ]
  },
  {
   "cell_type": "code",
   "execution_count": null,
   "id": "d521dbb4-6dcb-4f22-a4e3-65be1144c4b4",
   "metadata": {
    "tags": []
   },
   "outputs": [],
   "source": [
    "a = 2 + 3.4\n",
    "print(a)"
   ]
  },
  {
   "cell_type": "code",
   "execution_count": null,
   "id": "10702289-04d7-4d77-887c-4366e5592542",
   "metadata": {
    "tags": []
   },
   "outputs": [],
   "source": [
    "a = 2 \"3\"\n",
    "print(a)"
   ]
  },
  {
   "cell_type": "code",
   "execution_count": null,
   "id": "6575fd5a-b5d0-48a0-9e9b-c84ddeb7f6c4",
   "metadata": {
    "tags": []
   },
   "outputs": [],
   "source": [
    "a = 2 + \"3\"\n",
    "print(a)"
   ]
  },
  {
   "cell_type": "code",
   "execution_count": null,
   "id": "43941ca1-31f7-46ff-96db-46b9c291baeb",
   "metadata": {
    "tags": []
   },
   "outputs": [],
   "source": [
    "pi = 3.14\n",
    "radio = 3\n",
    "area = pi * radio\n",
    "print(area)"
   ]
  },
  {
   "cell_type": "code",
   "execution_count": null,
   "id": "92a044f8-1ae1-4ccc-9dda-30d84411bb8d",
   "metadata": {
    "tags": []
   },
   "outputs": [],
   "source": [
    "a = \"3\" + 2\n",
    "print(a)"
   ]
  },
  {
   "cell_type": "markdown",
   "id": "6fab6baa-ba5a-47cc-a870-ca32c9c4d821",
   "metadata": {
    "jp-MarkdownHeadingCollapsed": true,
    "tags": []
   },
   "source": [
    "### Tipos de objetos 🧑‍💻"
   ]
  },
  {
   "cell_type": "markdown",
   "id": "289d5c3d-2a0f-49ed-a0f3-a9f16a9bee7e",
   "metadata": {},
   "source": [
    "Qué tipos de objetos se obtendrán al ejecutar las celdas de código?\n",
    "\n",
    "> Responda antes de ejecutar el código"
   ]
  },
  {
   "cell_type": "code",
   "execution_count": null,
   "id": "271fd09f-dbcb-42b2-98c2-c3dad299b276",
   "metadata": {
    "tags": []
   },
   "outputs": [],
   "source": [
    "t = type(5)\n",
    "print(t)"
   ]
  },
  {
   "cell_type": "code",
   "execution_count": null,
   "id": "3fe62035-4a7e-4c24-9081-47fcdcd72f9c",
   "metadata": {
    "tags": []
   },
   "outputs": [],
   "source": [
    "t = type(1.5)\n",
    "print(t)"
   ]
  },
  {
   "cell_type": "code",
   "execution_count": null,
   "id": "a66a52c0-f425-48f9-8764-17bfdb324b17",
   "metadata": {},
   "outputs": [],
   "source": [
    "t = type(5 + 3)\n",
    "print(t)"
   ]
  },
  {
   "cell_type": "code",
   "execution_count": null,
   "id": "90b80592-4af4-40f5-9463-9d44870440c3",
   "metadata": {},
   "outputs": [],
   "source": [
    "t = type(5 / 2)\n",
    "print(t)"
   ]
  },
  {
   "cell_type": "code",
   "execution_count": null,
   "id": "177b541c-f26c-42c4-9efb-3a6a7db797ea",
   "metadata": {},
   "outputs": [],
   "source": [
    "t = type(5 * 2.0)\n",
    "print(t)"
   ]
  },
  {
   "cell_type": "code",
   "execution_count": null,
   "id": "096c8c4d-ed8d-4489-b41e-4fea4bffc7c6",
   "metadata": {
    "tags": []
   },
   "outputs": [],
   "source": [
    "t = type(5 // 2)\n",
    "print(t)"
   ]
  },
  {
   "cell_type": "code",
   "execution_count": null,
   "id": "31537eb6-5a6f-46cd-89c2-a3e2d3fe37a2",
   "metadata": {},
   "outputs": [],
   "source": [
    "t = type(False)\n",
    "print(t)"
   ]
  },
  {
   "cell_type": "code",
   "execution_count": null,
   "id": "beaf1e03-ca35-4a22-9280-11205c419bb7",
   "metadata": {
    "tags": []
   },
   "outputs": [],
   "source": [
    "t = type(int(False))\n",
    "print(t)"
   ]
  },
  {
   "cell_type": "code",
   "execution_count": null,
   "id": "0013293f-2671-42a3-be2e-0e136a510dc2",
   "metadata": {
    "tags": []
   },
   "outputs": [],
   "source": [
    "t = type(float(4))\n",
    "print(t)"
   ]
  },
  {
   "cell_type": "code",
   "execution_count": null,
   "id": "0a89aef2-dc09-4a17-b27f-336a19e5982e",
   "metadata": {},
   "outputs": [],
   "source": [
    "t = type(None)\n",
    "print(t)"
   ]
  },
  {
   "cell_type": "code",
   "execution_count": null,
   "id": "40e7c416-c4a4-4f3e-bdf3-63a8b9740a6b",
   "metadata": {
    "tags": []
   },
   "outputs": [],
   "source": [
    "t = type(float)\n",
    "print(t)"
   ]
  },
  {
   "cell_type": "markdown",
   "id": "d983d8a8-b262-487e-932f-ee4fd802441a",
   "metadata": {
    "jp-MarkdownHeadingCollapsed": true,
    "tags": []
   },
   "source": [
    "### Expresiones 😎"
   ]
  },
  {
   "cell_type": "markdown",
   "id": "d771db4e-a569-4e2d-a5a4-aeed1f58357f",
   "metadata": {},
   "source": [
    "El siguiente código es parte de la implementación del cálculo\n",
    "de las soluciones reales de una ecuación de segundo grado que\n",
    "usted deberá completar.\n",
    "\n",
    "No se preocupe si no entiende del todo la estructura del código,\n",
    "no es objetivo de esta clase hacerlo, el objetivo es aprender a\n",
    "crear expresiones."
   ]
  },
  {
   "cell_type": "code",
   "execution_count": null,
   "id": "0895c314-f80a-4e21-9a76-9536f9bc8d1a",
   "metadata": {
    "tags": []
   },
   "outputs": [],
   "source": [
    "def solve(a: float, b: float, c: float) -> tuple[float, float]:\n",
    "    d = 0  # Sustituya esta línea por la expresión correcta para calcular el discriminante.\n",
    "    if d < 0:\n",
    "        raise Exception(\"La ecuación no tiene solución en los reales\")\n",
    "    x1 = -b + d ** (1 / 2) / 2 * a  # En esta línea hay errores, corríjalos.\n",
    "    x2 = 0  # Sustituya esta línea por la expresión correcta para calcular la segunda solución.\n",
    "    return x1, x2"
   ]
  },
  {
   "cell_type": "code",
   "execution_count": null,
   "id": "5d3af372-b5c6-463a-9932-af1a8a9802bb",
   "metadata": {
    "tags": []
   },
   "outputs": [],
   "source": [
    "sol = solve(1, -5, 6)\n",
    "print(sol)  # Debe imprimir (3.0, 2.0)"
   ]
  },
  {
   "cell_type": "code",
   "execution_count": null,
   "id": "549a2eb4-895d-425e-84b9-c9b10721b307",
   "metadata": {
    "tags": []
   },
   "outputs": [],
   "source": [
    "sol = solve(2, -7, 3)\n",
    "print(sol)  # Debe imprimir (3.0, 0.5)"
   ]
  },
  {
   "cell_type": "markdown",
   "id": "20b5e6de-db34-4f93-b42e-a85ac3736c8f",
   "metadata": {
    "jp-MarkdownHeadingCollapsed": true,
    "tags": []
   },
   "source": [
    "### Esto no es Matemática, es Programación 🙃"
   ]
  },
  {
   "cell_type": "code",
   "execution_count": null,
   "id": "f0cf811c-c6e8-46f5-a4c6-fc1a2364d07d",
   "metadata": {},
   "outputs": [],
   "source": [
    "usa_gold = 46\n",
    "uk_gold = 27\n",
    "romania_gold = 1\n",
    "\n",
    "total_gold = usa_gold + uk_gold + romania_gold\n",
    "print(total_gold) # Imprime 74\n",
    "\n",
    "romania_gold += 1\n",
    "print(total_gold) # Qué imprime acá?"
   ]
  },
  {
   "cell_type": "markdown",
   "id": "531ef546-d6df-43e6-9825-55088b521c26",
   "metadata": {
    "jp-MarkdownHeadingCollapsed": true,
    "tags": []
   },
   "source": [
    "### Tarea 😅"
   ]
  },
  {
   "cell_type": "markdown",
   "id": "046a65bc-8c53-4547-8878-cf29a3b5f03b",
   "metadata": {},
   "source": [
    "Investigue sobre quién fue y qué hizo Alan Turing."
   ]
  }
 ],
 "metadata": {
  "kernelspec": {
   "display_name": "Python 3 (ipykernel)",
   "language": "python",
   "name": "python3"
  },
  "language_info": {
   "codemirror_mode": {
    "name": "ipython",
    "version": 3
   },
   "file_extension": ".py",
   "mimetype": "text/x-python",
   "name": "python",
   "nbconvert_exporter": "python",
   "pygments_lexer": "ipython3",
   "version": "3.11.2"
  }
 },
 "nbformat": 4,
 "nbformat_minor": 5
}
