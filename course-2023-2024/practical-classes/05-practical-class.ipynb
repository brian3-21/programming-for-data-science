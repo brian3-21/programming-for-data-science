{
 "cells": [
  {
   "cell_type": "markdown",
   "id": "e1b8897f-7ce4-45b9-b3fd-6c7adb037a4f",
   "metadata": {},
   "source": [
    "# Programación • Ciencia de Datos • Clase Práctica 0️⃣5️⃣"
   ]
  },
  {
   "cell_type": "markdown",
   "id": "dcc891ef-eb7a-4f8e-a328-08a0f21d60e9",
   "metadata": {
    "jp-MarkdownHeadingCollapsed": true,
    "tags": []
   },
   "source": [
    "##### Diferencias y similitudes entre las tuplas y las listas de Python"
   ]
  },
  {
   "cell_type": "markdown",
   "id": "4cec15f0-2feb-4f78-a4c6-fe7e7463ff5c",
   "metadata": {
    "tags": []
   },
   "source": [
    "Las tuplas son una estructura de datos similar a las listas, pero con la diferencia de que son inmutables. Esto significa que una vez creada una tupla, no se pueden modificar sus elementos. Por esta razón, las tuplas son útiles en situaciones en las que se necesita almacenar datos que no van a cambiar durante la ejecución del programa y se quiere asegurar que estos datos no sean modificados accidentalmente.\n",
    "\n",
    "Algunas situaciones en las que podría ser recomendable utilizar tuplas en lugar de listas son:\n",
    "\n",
    "- **Almacenar datos constantes**: Si necesitas almacenar datos que no van a cambiar durante la ejecución del programa, puedes utilizar una tupla en lugar de una lista para asegurarte de que estos datos no sean modificados accidentalmente.\n",
    "\n",
    "- **Devolver múltiples valores desde una función**: Si necesitas devolver múltiples valores desde una función, puedes utilizar una tupla para hacerlo. De esta forma puedes devolver varios valores en un solo objeto y desempaquetarlos fácilmente al llamar a la función.\n",
    "\n",
    "- **Optimización del rendimiento**: Las tuplas pueden ser más eficientes en términos de rendimiento y memoria que las listas ya que no tienen el overhead asociado con la capacidad de modificar sus elementos. Si necesitas almacenar grandes cantidades de datos y el rendimiento es importante, puede ser recomendable utilizar tuplas en lugar de listas.\n",
    "\n",
    "- **Cuando la cantidad de elementos no varía**: Como las tuplas son inmutables, no se pueden agregar o eliminar elementos una vez creadas. Por lo tanto, si necesitas almacenar una colección de elementos cuya cantidad no va a cambiar durante la ejecución del programa, puedes utilizar una tupla en lugar de una lista.\n",
    "\n",
    "| Característica | Tuplas | Listas | Explicación |\n",
    "| --- | --- | --- | --- |\n",
    "| Mutabilidad  | Inmutables (no pueden ser modificadas)   | Mutables (pueden ser modificadas)   | Las tuplas no pueden ser modificadas una vez creadas mientras que las listas sí pueden ser modificadas. |\n",
    "| Eficiencia  | Más eficientes que las listas  | Menos eficientes que las tuplas  | Las tuplas son más eficientes en términos de tiempo y espacio que las listas. |\n",
    "| Pruebas de membresía  | Soporte para pruebas de membresía  | Soporte para pruebas de membresía  | Tanto las tuplas como las listas permiten verificar si un elemento está presente utilizando el operador `in`. |\n",
    "| Indexación y corte  | Compatibilidad con la indexación y el corte  | Compatibilidad con la indexación y el corte  | Tanto las tuplas como las listas permiten acceder a sus elementos utilizando índices y obtener subconjuntos de sus elementos utilizando la sintaxis de corte (slicing). |"
   ]
  },
  {
   "cell_type": "markdown",
   "id": "c9704eb9-0657-4adc-8be8-fd8b571fa6a6",
   "metadata": {
    "jp-MarkdownHeadingCollapsed": true,
    "tags": []
   },
   "source": [
    "##### 1. Escribir una función que tome una lista y devuelva otra lista con los elementos únicos de la primera lista"
   ]
  },
  {
   "cell_type": "code",
   "execution_count": 23,
   "id": "05a23051-a450-4d28-880c-a6f57c23a612",
   "metadata": {
    "tags": []
   },
   "outputs": [],
   "source": [
    "def unique_elements(lst):\n",
    "    result = []\n",
    "    for element in lst:\n",
    "        ...\n",
    "    return result"
   ]
  },
  {
   "cell_type": "markdown",
   "id": "a89b7959-b499-4d78-970d-3b64b77fe45f",
   "metadata": {
    "jp-MarkdownHeadingCollapsed": true,
    "tags": []
   },
   "source": [
    "##### 2. Escribir una función que tome una lista y un número n y devuelva otra lista con los n elementos más grandes de la primera lista"
   ]
  },
  {
   "cell_type": "code",
   "execution_count": 22,
   "id": "f46e6a20-2b56-482c-b87d-043eec271ade",
   "metadata": {
    "tags": []
   },
   "outputs": [],
   "source": [
    "def largest_n_elements(lst, n):\n",
    "    result = []\n",
    "    ...\n",
    "    return result"
   ]
  },
  {
   "cell_type": "markdown",
   "id": "24dcc80f-1345-415e-b90a-a40148c7af5c",
   "metadata": {
    "jp-MarkdownHeadingCollapsed": true,
    "tags": []
   },
   "source": [
    "##### 3. Escribir una función que tome dos listas y devuelva una nueva lista con los elementos que están en la primera lista pero no en la segunda"
   ]
  },
  {
   "cell_type": "code",
   "execution_count": 21,
   "id": "c95f42fa-74eb-45f0-a819-d155a6b5750b",
   "metadata": {
    "tags": []
   },
   "outputs": [],
   "source": [
    "def difference(lst1, lst2):\n",
    "    result = []\n",
    "    for element in lst1:\n",
    "        ...\n",
    "    return result"
   ]
  },
  {
   "cell_type": "markdown",
   "id": "c4f8d3e4-aa67-4aa3-a0cd-3f760c593acb",
   "metadata": {
    "jp-MarkdownHeadingCollapsed": true,
    "tags": []
   },
   "source": [
    "##### 4. Escribir una función que tome una lista y un número n y devuelva otra lista con los elementos de la primera lista rotados n posiciones a la derecha"
   ]
  },
  {
   "cell_type": "code",
   "execution_count": 20,
   "id": "f9acc073-6dae-47d1-8c7a-b62fbdc925d4",
   "metadata": {
    "tags": []
   },
   "outputs": [],
   "source": [
    "def rotate_right(lst, n):\n",
    "    result = [0] * len(lst)\n",
    "    for i in range(len(lst)):\n",
    "        ...\n",
    "        new_index = 0 \n",
    "        result[new_index] = lst[i]\n",
    "    return result"
   ]
  },
  {
   "cell_type": "markdown",
   "id": "9b4c38eb-0da6-4b16-9ec9-3ada63fe2d83",
   "metadata": {
    "jp-MarkdownHeadingCollapsed": true,
    "tags": []
   },
   "source": [
    "##### 5. Escribir una función que tome una lista y devuelva otra lista con los elementos de la primera lista intercalados"
   ]
  },
  {
   "cell_type": "code",
   "execution_count": 26,
   "id": "394dfd22-612c-484f-934c-0ec2cc127e32",
   "metadata": {
    "tags": []
   },
   "outputs": [],
   "source": [
    "def interleave(lst):\n",
    "    result = []\n",
    "    ...\n",
    "    return result"
   ]
  },
  {
   "cell_type": "markdown",
   "id": "08b4f38c-02d5-47dc-86cb-4ffdd8f63834",
   "metadata": {
    "jp-MarkdownHeadingCollapsed": true,
    "tags": []
   },
   "source": [
    "##### 6. Escribir una función que tome una lista y un número n y devuelva otra lista con los elementos de la primera lista agrupados en sub-listas de tamaño n"
   ]
  },
  {
   "cell_type": "code",
   "execution_count": null,
   "id": "2386f70f-fbee-4d51-a409-a97fb815ddab",
   "metadata": {
    "tags": []
   },
   "outputs": [],
   "source": [
    "def group(lst, n):\n",
    "    result = []\n",
    "    ...\n",
    "    return result"
   ]
  },
  {
   "cell_type": "markdown",
   "id": "951c1f1e-9db1-4193-8eaf-f4df4e0bd825",
   "metadata": {
    "jp-MarkdownHeadingCollapsed": true,
    "tags": []
   },
   "source": [
    "##### 7. Escribir una función que tome dos listas y devuelva una nueva lista con los elementos intercalados de ambas listas"
   ]
  },
  {
   "cell_type": "code",
   "execution_count": 29,
   "id": "b781aa06-ad7b-4e61-8f96-5fe5764e8b25",
   "metadata": {
    "tags": []
   },
   "outputs": [],
   "source": [
    "def interleave_lists(lst1, lst2):\n",
    "    result = []\n",
    "    ...\n",
    "    return result"
   ]
  },
  {
   "cell_type": "markdown",
   "id": "5597bfc2-c20c-4010-a852-02fae4ba474c",
   "metadata": {
    "jp-MarkdownHeadingCollapsed": true,
    "tags": []
   },
   "source": [
    "##### 8. Escribir una función que tome una matriz (lista de listas) y devuelva otra matriz con las filas y columnas invertidas (transpuesta)"
   ]
  },
  {
   "cell_type": "code",
   "execution_count": 31,
   "id": "a3d3bfaa-4f9e-4090-926f-2712ac2552f8",
   "metadata": {
    "tags": []
   },
   "outputs": [],
   "source": [
    "def transpose(matrix):\n",
    "    result = []\n",
    "    ...\n",
    "    return result"
   ]
  }
 ],
 "metadata": {
  "kernelspec": {
   "display_name": "Python 3 (ipykernel)",
   "language": "python",
   "name": "python3"
  },
  "language_info": {
   "codemirror_mode": {
    "name": "ipython",
    "version": 3
   },
   "file_extension": ".py",
   "mimetype": "text/x-python",
   "name": "python",
   "nbconvert_exporter": "python",
   "pygments_lexer": "ipython3",
   "version": "3.11.2"
  }
 },
 "nbformat": 4,
 "nbformat_minor": 5
}
